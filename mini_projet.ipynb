{
 "cells": [
  {
   "cell_type": "code",
   "execution_count": 1,
   "metadata": {},
   "outputs": [],
   "source": [
    "import sys\n",
    "import requests\n",
    "from time import sleep\n",
    "import numpy as np\n",
    "import pandas as pd\n",
    "from pandas.io.json import json_normalize\n",
    "import json\n",
    "import matplotlib.pyplot as plt"
   ]
  },
  {
   "cell_type": "markdown",
   "metadata": {},
   "source": [
    "# Requête "
   ]
  },
  {
   "cell_type": "code",
   "execution_count": 2,
   "metadata": {},
   "outputs": [],
   "source": [
    "# Variable initialisation\n",
    "N_request = 40\n",
    "category = ['tiny','small','medium','large']\n",
    "listCourse = []\n",
    "listMissTop = []"
   ]
  },
  {
   "cell_type": "code",
   "execution_count": 3,
   "metadata": {},
   "outputs": [],
   "source": [
    "def request(category, cpt, listMissTop, oldTop=None) :\n",
    "    r = requests.get('http://tortues.ecoquery.os.univ-lyon1.fr:8080/'+str(category))\n",
    "    r_json = r.json()\n",
    "    recs = r_json['tortoises']\n",
    "    df = pd.json_normalize(recs)\n",
    "    if cpt == 0 :\n",
    "        oldTop = df.top[0]\n",
    "    if cpt != 0 :\n",
    "        #print(\"old top : \"+str(oldTop) + \" et new top: \"+str(df.top[0]))\n",
    "        if df.top[0] != (oldTop + 1) :\n",
    "            print(\"Rattage de top ! \")\n",
    "            listMissTop.append(cpt+1)\n",
    "        oldTop = df.top[0]\n",
    "    df['iterration_update'] = cpt\n",
    "    return df,oldTop"
   ]
  },
  {
   "cell_type": "code",
   "execution_count": null,
   "metadata": {},
   "outputs": [
    {
     "name": "stdout",
     "output_type": "stream",
     "text": [
      "Requete 1\n",
      "Requete 2\n",
      "Requete 3\n",
      "Requete 4\n",
      "Requete 5\n",
      "Requete 6\n",
      "Requete 7\n",
      "Requete 8\n",
      "Requete 9\n",
      "Requete 10\n",
      "Requete 11\n",
      "Requete 12\n",
      "Requete 13\n",
      "Rattage de top ! \n",
      "Requete 14\n",
      "Requete 15\n",
      "Requete 16\n",
      "Requete 17\n",
      "Requete 18\n",
      "Requete 19\n",
      "Requete 20\n",
      "Requete 21\n",
      "Requete 22\n",
      "Requete 23\n",
      "Requete 24\n",
      "Requete 25\n",
      "Requete 26\n",
      "Requete 27\n",
      "Requete 28\n",
      "Requete 29\n",
      "Requete 30\n",
      "Requete 31\n",
      "Requete 32\n",
      "Requete 33\n"
     ]
    }
   ],
   "source": [
    "oldTop = None\n",
    "repeat = True\n",
    "cpt=0    \n",
    "while cpt < N_request :\n",
    "    print('Requete '+str(cpt+1))\n",
    "    res = request('tiny',cpt,listMissTop,oldTop)\n",
    "    listCourse.append(res[0])\n",
    "    oldTop = res[1]\n",
    "    #repeat = res[2]\n",
    "    sleep(2.99)\n",
    "    cpt += 1"
   ]
  },
  {
   "cell_type": "markdown",
   "metadata": {},
   "source": [
    "# Conversion dataframe"
   ]
  },
  {
   "cell_type": "code",
   "execution_count": null,
   "metadata": {},
   "outputs": [],
   "source": [
    "df = pd.concat(listCourse)\n",
    "df['vitesse'] = 0"
   ]
  },
  {
   "cell_type": "code",
   "execution_count": null,
   "metadata": {},
   "outputs": [],
   "source": [
    "df.loc[df.iterration_update == 0,'vitesse'] = -1\n",
    "df.head(20)"
   ]
  },
  {
   "cell_type": "code",
   "execution_count": null,
   "metadata": {},
   "outputs": [],
   "source": [
    "df = df.sort_values(by=['id','top'])"
   ]
  },
  {
   "cell_type": "code",
   "execution_count": null,
   "metadata": {},
   "outputs": [],
   "source": [
    "df ['ecart_position_avec_precedent'] = df.groupby('id')['position'].diff()"
   ]
  },
  {
   "cell_type": "code",
   "execution_count": null,
   "metadata": {},
   "outputs": [],
   "source": [
    "df ['acceleration'] = df.groupby('id')['ecart_position_avec_precedent'].diff()"
   ]
  },
  {
   "cell_type": "markdown",
   "metadata": {},
   "source": [
    "# Calcul des vitesses"
   ]
  },
  {
   "cell_type": "code",
   "execution_count": null,
   "metadata": {},
   "outputs": [],
   "source": [
    "df_ecart = df[df['vitesse'] != -1]\n",
    "df_ecart"
   ]
  },
  {
   "cell_type": "code",
   "execution_count": null,
   "metadata": {},
   "outputs": [],
   "source": [
    "df_ecart = df_ecart.drop('vitesse', 1)\n",
    "df_ecart"
   ]
  },
  {
   "cell_type": "code",
   "execution_count": null,
   "metadata": {},
   "outputs": [],
   "source": [
    "df_ecart = df_ecart.loc[:,~df_ecart.columns.duplicated()]\n",
    "df_ecart = df_ecart.reset_index(drop=True)\n",
    "df_ecart"
   ]
  },
  {
   "cell_type": "code",
   "execution_count": null,
   "metadata": {},
   "outputs": [],
   "source": [
    "df_join = df_ecart.groupby('id').agg(lambda x: x.tolist())"
   ]
  },
  {
   "cell_type": "code",
   "execution_count": null,
   "metadata": {},
   "outputs": [],
   "source": [
    "df_join['acceleration'].apply(lambda x : x.pop(0))"
   ]
  },
  {
   "cell_type": "code",
   "execution_count": null,
   "metadata": {},
   "outputs": [],
   "source": [
    "df_join['distraite'] = None\n",
    "df_join['fatigue'] = None\n",
    "df_join['cyclique'] = None\n",
    "df_join['regulier'] = None\n",
    "df_join"
   ]
  },
  {
   "cell_type": "markdown",
   "metadata": {},
   "source": [
    "# Visualisation "
   ]
  },
  {
   "cell_type": "code",
   "execution_count": null,
   "metadata": {},
   "outputs": [],
   "source": [
    "listMissTop"
   ]
  },
  {
   "cell_type": "code",
   "execution_count": null,
   "metadata": {},
   "outputs": [],
   "source": [
    "fig, ax = plt.subplots(figsize=(8,6))\n",
    "\n",
    "for i, g in df.groupby('id'):\n",
    "    g.plot(x='iterration_update', y='ecart_position_avec_precedent', ax=ax, label=str(i))\n",
    "\n",
    "plt.show()"
   ]
  },
  {
   "cell_type": "markdown",
   "metadata": {},
   "source": [
    "# Fonction Typage"
   ]
  },
  {
   "cell_type": "markdown",
   "metadata": {},
   "source": [
    "Les tortues fatiguées s’endorment au fur et à mesure qu’elles avancent. Leur vitesse diminue à un rythme constant jusqu’à tomber à 0. Ces tortues se réveillent alors et recommencent à accélérer (au même rythme qu’elles ont ralenti) jusqu’à atteindre le vitesse initiale, puis elles recommencent alors à s’endormir. Il est possible que le rythme de (décroissance) soit différent au moment de l’arrêt de la tortue et au moment où elle termine sa réaccélération à sa vitesse de départ. On prendra la convention que les tortues fatiguées et cycliques sont considérées comme fatiguées, mais pas comme cycliques. (paramètres: vitesse initiale et rythme de (dé)croissance)"
   ]
  },
  {
   "cell_type": "code",
   "execution_count": null,
   "metadata": {},
   "outputs": [],
   "source": [
    "def detectMissTopVitesse(cpt, array_miss_top):\n",
    "    for i in array_miss_top :\n",
    "        if cpt == (i - 1) - 1 :\n",
    "            return True\n",
    "    return False\n",
    "        \n",
    "        \n",
    "        \n",
    "def detectMissTopAcceleration(cpt, array_miss_top):\n",
    "    for i in array_miss_top :\n",
    "        if cpt == (i - 1) - 2 :\n",
    "            return True\n",
    "    return False\n",
    "        \n",
    "        "
   ]
  },
  {
   "cell_type": "code",
   "execution_count": null,
   "metadata": {},
   "outputs": [],
   "source": [
    "# Detection des tortues régulières\n",
    "def detect_regular(df_join,id) :\n",
    "    # On procede pareil que dans la fonction detect_tired ici sauf que on verifie \n",
    "    # que le coefficient d'acceleration le plus frequent 0 est présent partout\n",
    "    # Ici il faut prendre en consideration les possibles \"ratage\" de top.\n",
    "    # On verifie que chaque valeur d'acceleration des tortues est égale à 0 et \n",
    "    # il faut verifier si entre deux times series qui ont une accelerations nulle\n",
    "    # on a une time serie avec un point \"abérrant\" (outlier) qui se traduit par un \"ratage\" de top\n",
    "    # qu'il ne faut pas prendre en consideration\n",
    "    array = np.array(df_join['acceleration'][id])\n",
    "    print(array)\n",
    "    n = len(array)\n",
    "    freq_array = []\n",
    "    array_abs = np.absolute(array)\n",
    "    unique_elements, counts_elements = np.unique(array_abs, return_counts=True)\n",
    "    value_count = np.asarray((unique_elements, counts_elements))\n",
    "    for freq in value_count[1] :\n",
    "        freq_array.append(freq / n)\n",
    "    max_freq = np.array(freq_array).max()\n",
    "    index = np.argmax(freq_array)\n",
    "    value = unique_elements[index]\n",
    "    print(value)\n",
    "    # Si la valeur la plus fréquente est  0 alors c'est potentiellement une tortue réguliere\n",
    "    if value == 0 :\n",
    "         \n",
    "        cpt = 0\n",
    "        print(array_abs)\n",
    "        for e in array_abs :\n",
    "            # Si on rate le top entre deux requêtes on prends pas l'acceleration de cette time serie en consideration\n",
    "            # Donc on verifie si ya un \"ratage\" de top\n",
    "            #print(str(array_abs[cpt])+\" et \"+ str(array_abs[cpt+1]))\n",
    "            if e != 0 :\n",
    "                if array_abs[cpt] == array_abs[cpt-1] or array_abs[cpt] == array_abs[cpt+1] :\n",
    "                    cpt += 1\n",
    "                    continue\n",
    "                # Sinon ce n'est pas une tortue réguliere\n",
    "                else:\n",
    "                    return False\n",
    "            # Sinon on verifie que l'acceleration est égale a zero\n",
    "            elif e == 0 :\n",
    "                index_vitesse = cpt\n",
    "                cpt += 1\n",
    "                continue\n",
    "            \n",
    "        return True,np.array(df_join['ecart_position_avec_precedent'][id])[index_vitesse]\n",
    "    else :\n",
    "        return False"
   ]
  },
  {
   "cell_type": "code",
   "execution_count": null,
   "metadata": {},
   "outputs": [],
   "source": [
    "def detect_cycle(df_join,id, array_miss_top):\n",
    "    check_acceleration = np.array(df_join['acceleration'][id])\n",
    "    freq_array = []\n",
    "    unique_elements, counts_elements = np.unique(check_acceleration, return_counts=True)\n",
    "    value_count = np.asarray((unique_elements, counts_elements))\n",
    "    for freq in value_count[1] :\n",
    "        freq_array.append(freq / len(check_acceleration))\n",
    "    max_freq = np.array(freq_array).max()\n",
    "    index = np.argmax(freq_array)\n",
    "    value = unique_elements[index]\n",
    "    \n",
    "    # On regarde si la tortue est réguliere avant de betement commencer à chercher un cycle\n",
    "    if value == 0 :\n",
    "        return False\n",
    "\n",
    "    array = np.array(df_join['ecart_position_avec_precedent'][id])\n",
    "    potential_cycle = False\n",
    "    test_cycle = False\n",
    "    visited = []\n",
    "    current_cycle = []\n",
    "    cycle = []\n",
    "    count_cycle = 0\n",
    "    cpt_current_cycle = 0\n",
    "    cpt_current_element = 0\n",
    "    cpt_miss_top = 0\n",
    "    len_cycle = 0\n",
    "    index_tab_vitesse_initial = 0\n",
    "    for e in array :\n",
    "        # Premier cas on append simplement :\n",
    "        if cpt_current_element == 0 :\n",
    "            cpt_current_cycle += 1\n",
    "            current_cycle.append(e)\n",
    "            visited.append(e)\n",
    "            cpt_current_element += 1\n",
    "        \n",
    "        else :\n",
    "            # Si on a pas de cycle potentiel et qu'on detect un ratage de top, on reset le cycle\n",
    "            \n",
    "            if cpt_miss_top > 0 :\n",
    "                cpt_miss_top -= 1\n",
    "                \n",
    "            \n",
    "            elif detectMissTopVitesse(cpt_current_element,array_miss_top) and potential_cycle == False :\n",
    "                print('if 1')\n",
    "                #print(cpt_current_element)\n",
    "                cpt_current_cycle = 0\n",
    "                index_tab_vitesse_initial = cpt_current_element\n",
    "                current_cycle = []\n",
    "                cpt_miss_top += 2\n",
    "                \n",
    "            \n",
    "            # Si on a pas encore de cycle potentiel et qu'on retombe sur le premier element du cycle courant\n",
    "            # Alors on on a un cycle potentiel\n",
    "            elif len(current_cycle) > 0 and e == current_cycle[0] and potential_cycle == False and len(current_cycle) > 1 and e != current_cycle[cpt_current_cycle-1] :\n",
    "                print('if 2')\n",
    "                potential_cycle = True\n",
    "                visited.append(e)\n",
    "                cpt_current_element + 1\n",
    "                len_cycle = cpt_current_cycle\n",
    "                cycle = current_cycle\n",
    "                print('cycle potentiel:'+str(cycle))\n",
    "                print(\"longueur: \" + str(len_cycle))\n",
    "                #print(visited)\n",
    "            \n",
    "            # Si on a pas de cycle potentiel, il faut comparer la fin des elements du tableau avec\n",
    "            # le cycle potentiel constitué. Il faut adapter un compteur pour les indices du cycles potentiels\n",
    "            elif potential_cycle == True :\n",
    "                \n",
    "                if cpt_current_cycle == len_cycle and test_cycle == False :\n",
    "                    cpt_current_cycle = 1 \n",
    "                    test_cycle = True\n",
    "                elif cpt_current_cycle == len_cycle and test_cycle == True : \n",
    "                    cpt_current_cycle = 0\n",
    "                    current_cycle = []\n",
    "                elif cpt_current_cycle > len_cycle : \n",
    "                    cpt_current_cycle -= len_cycle\n",
    "                \n",
    "                #print(str(cycle[cpt_current_cycle]) + ' et element acceleration '+str(e))\n",
    "                if detectMissTopVitesse(cpt_current_element,array_miss_top):\n",
    "                    \n",
    "                    cpt_current_cycle += 2\n",
    "                    \n",
    "                elif cycle[cpt_current_cycle] == e :\n",
    "                    #print('suis le cycle')\n",
    "                    cpt_current_cycle += 1\n",
    "                else :\n",
    "                    return False\n",
    "\n",
    "            else :\n",
    "                cpt_current_cycle += 1\n",
    "                current_cycle.append(e)\n",
    "                visited.append(e)\n",
    "            print(current_cycle)\n",
    "            cpt_current_element += 1\n",
    "        #print(cpt_current_element)\n",
    "    if test_cycle == True :\n",
    "        return True,df_join['ecart_position_avec_precedent'][id][index_tab_vitesse_initial:(index_tab_vitesse_initial+len_cycle)]\n",
    "    else :\n",
    "        return False"
   ]
  },
  {
   "cell_type": "code",
   "execution_count": null,
   "metadata": {},
   "outputs": [],
   "source": [
    "import heapq\n",
    "\n",
    "# Detection des tortues endormies\n",
    "def detect_tired(df_join,id,array_miss_top):\n",
    "    array = np.array(df_join['acceleration'][id])\n",
    "    # On converti les valeurs d'acceleration en valeur absolu pour les conditionner aux regles de rythmes des tortues\n",
    "    # Par rapport aux valeurs de cycles attendus pour l'acceleration\n",
    "    n = len(array)\n",
    "    freq_array = []\n",
    "    array_abs = np.absolute(array)\n",
    "    unique_elements, counts_elements = np.unique(array_abs, return_counts=True)\n",
    "    value_count = np.asarray((unique_elements, counts_elements))\n",
    "    # On recupere les frequences pour toutes les accelerations \n",
    "    for freq in value_count[1] :\n",
    "        freq_array.append(freq / n)\n",
    "    max_freq = np.array(freq_array).max()\n",
    "    # On regarde quelle est l'acceleration la plus significative en terme de ratio et on l'a stocke dans value\n",
    "    index = np.argmax(freq_array)\n",
    "    second_index = np.array(freq_array).argsort()[-2]\n",
    "    # Sauvegarde de la vitesse initiale\n",
    "    #print(second_index)\n",
    "    acceleration_initiale = unique_elements[second_index]\n",
    "    #print(df['ecart_position_avec_precedent'][id])\n",
    "    index_vitesse_initiale = (list(array_abs).index(acceleration_initiale))\n",
    "    vitesse_initiale = np.array(df_join['ecart_position_avec_precedent'][id][0])\n",
    "    cpt_miss = 0\n",
    "    value = unique_elements[index]\n",
    "    #print(value)\n",
    "    # Si la tortue n'est pas reguliere alors c'est potentiellement une tortue endormie\n",
    "    if value != 0: \n",
    "        cpt = 0\n",
    "        # on regarde que les times series enregistrés vérifient les conditions des tortues endormies\n",
    "        for e in array_abs :\n",
    "            # Si notre premiere valeur est un miss ou un ajustement\n",
    "            print(str(e)+\" et \"+str(value))\n",
    "            \n",
    "            if detectMissTopAcceleration(cpt,array_miss_top) : \n",
    "                cpt_miss = 1\n",
    "                cpt += 1\n",
    "                print('miss detected')\n",
    "            \n",
    "            elif cpt_miss > 0 :\n",
    "                cpt_miss -= 1\n",
    "                cpt +=1\n",
    "            \n",
    "            elif e != value and cpt == 0 :\n",
    "                if array_abs[cpt+1] == value:\n",
    "                    cpt += 1\n",
    "                    continue\n",
    "                \n",
    "            # Si on tombe tout le temps sur le coefficient d'acceleration enregistré comme le plus frequente on continue\n",
    "            elif e == value :\n",
    "                cpt += 1\n",
    "                continue\n",
    "            \n",
    "            # Si ce n'est pas la premiere valeur et que la valeur absolue de la valeur d'acceleration au top avant (n-1)\n",
    "            # Est égale a la valeur absolue de la valeur d'acceleration au top apres (n+1)\n",
    "            # Alors c'est un ratage de top et donc ce n'est pas a prendre en consideration\n",
    "            # Le top courant\n",
    "            elif cpt > 0 and e != value :\n",
    "                \n",
    "                \n",
    "                #S'il ya ratage de top, on verifie avec les valeurs d'avant et d'apres\n",
    "                if array_abs[cpt-1] == value or array_abs[cpt-3] == value:\n",
    "                    \n",
    "                    #print('ratage de top')\n",
    "                    cpt += 1\n",
    "                    continue\n",
    "                \n",
    "                   \n",
    "                \n",
    "                else :\n",
    "                    return False\n",
    "            \n",
    "            # Sinon ce n'est pas une tortue endormie\n",
    "            else :\n",
    "                return False\n",
    "        # l'ensemble des accelerations enregistrés respectent les conditions d'accelerations des tortues endormies\n",
    "        return True,vitesse_initiale\n",
    "    else :\n",
    "        # Sinon c'est pas une tortue endormie\n",
    "        return False\n"
   ]
  },
  {
   "cell_type": "code",
   "execution_count": null,
   "metadata": {},
   "outputs": [],
   "source": [
    "df_join['ecart_position_avec_precedent'][0][0]"
   ]
  },
  {
   "cell_type": "code",
   "execution_count": null,
   "metadata": {},
   "outputs": [],
   "source": [
    "def detect_distraite(df_join,id) :\n",
    "    if df_join['fatigue'][id] == False :\n",
    "        if df_join['regulier'][id] == False :\n",
    "            if df_join['cyclique'][id] == False :\n",
    "                min_vitesse = np.array(df['ecart_position_avec_precedent'][id]).min()\n",
    "                max_vitesse = np.array(df['ecart_position_avec_precedent'][id]).max()\n",
    "                \n",
    "                return True,min_vitesse,max_vitesse\n",
    "    return False\n"
   ]
  },
  {
   "cell_type": "code",
   "execution_count": null,
   "metadata": {},
   "outputs": [],
   "source": [
    "listMissTop"
   ]
  },
  {
   "cell_type": "markdown",
   "metadata": {},
   "source": [
    "# Detection des tortues"
   ]
  },
  {
   "cell_type": "code",
   "execution_count": null,
   "metadata": {},
   "outputs": [],
   "source": [
    "df_join = df_join.reset_index()"
   ]
  },
  {
   "cell_type": "code",
   "execution_count": null,
   "metadata": {},
   "outputs": [],
   "source": [
    "def analyse_detection(df_join):\n",
    "    array_id = df_join['id'].unique()\n",
    "    for i in array_id :\n",
    "        df_join['fatigue'][i] = detect_tired(df_join, i,listMissTop)\n",
    "        df_join['regulier'][i] = detect_regular(df_join, i)\n",
    "        df_join['cyclique'][i] = detect_cycle(df_join,i,listMissTop)\n",
    "        df_join['distraite'][i] = detect_distraite(df_join,i)\n",
    "    # on verifie pour les endormies et cycliques \n",
    "    \n",
    "    \n",
    "    for i in array_id :\n",
    "        if df_join['cyclique'][i] != False and df_join['fatigue'][i] != False :\n",
    "            print(\"id concerné :\"+str(i))\n",
    "            df_join['cyclique'][i] = False\n",
    "\n",
    "    return df_join"
   ]
  },
  {
   "cell_type": "code",
   "execution_count": null,
   "metadata": {
    "scrolled": true
   },
   "outputs": [],
   "source": [
    "df_resultat = analyse_detection(df_join)"
   ]
  },
  {
   "cell_type": "code",
   "execution_count": null,
   "metadata": {},
   "outputs": [],
   "source": [
    "df_resultat"
   ]
  },
  {
   "cell_type": "code",
   "execution_count": null,
   "metadata": {},
   "outputs": [],
   "source": [
    "df_resultat.iloc[:,6:].to_csv(\"resultat.csv\", sep='\\t', encoding='utf-8')"
   ]
  },
  {
   "cell_type": "code",
   "execution_count": null,
   "metadata": {},
   "outputs": [],
   "source": [
    "df_resultat.to_csv(\"dataframe_apres_traitement.csv\",sep=\"\\t\",encoding=\"utf-8\")"
   ]
  }
 ],
 "metadata": {
  "kernelspec": {
   "display_name": "Python 3",
   "language": "python",
   "name": "python3"
  },
  "language_info": {
   "codemirror_mode": {
    "name": "ipython",
    "version": 3
   },
   "file_extension": ".py",
   "mimetype": "text/x-python",
   "name": "python",
   "nbconvert_exporter": "python",
   "pygments_lexer": "ipython3",
   "version": "3.8.5"
  }
 },
 "nbformat": 4,
 "nbformat_minor": 4
}
